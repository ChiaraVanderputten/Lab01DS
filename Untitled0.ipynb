{
  "nbformat": 4,
  "nbformat_minor": 0,
  "metadata": {
    "colab": {
      "name": "Untitled0.ipynb",
      "provenance": [],
      "collapsed_sections": [],
      "toc_visible": true,
      "authorship_tag": "ABX9TyNZWqLC/F4IuUTkowQoJbn/",
      "include_colab_link": true
    },
    "kernelspec": {
      "display_name": "Python 3",
      "name": "python3"
    },
    "language_info": {
      "name": "python"
    }
  },
  "cells": [
    {
      "cell_type": "markdown",
      "metadata": {
        "id": "view-in-github",
        "colab_type": "text"
      },
      "source": [
        "<a href=\"https://colab.research.google.com/github/ChiaraVanderputten/Lab01DS/blob/main/Untitled0.ipynb\" target=\"_parent\"><img src=\"https://colab.research.google.com/assets/colab-badge.svg\" alt=\"Open In Colab\"/></a>"
      ]
    },
    {
      "cell_type": "markdown",
      "metadata": {
        "id": "ynYsQfeYnoS7"
      },
      "source": [
        "# 2.1"
      ]
    },
    {
      "cell_type": "code",
      "metadata": {
        "id": "9nU6JTjgnyEh"
      },
      "source": [
        "! wget \"https://archive.ics.uci.edu/ml/machine-learning-databases/iris/iris.data\" -O iris.csv\n",
        "import csv\n",
        "\n",
        "db = [ [], [], [], [], [] ] #lista di 5 colonne\n",
        "with open(\"iris.csv\") as f:\n",
        " for row in csv.reader(f): #per ogni riga mi salvo il valore nella colonna corrispondente così avrò una lista con tutte leunghezze dei peatali ecc..\n",
        "   if len(row)==5:\n",
        "     for i in range(4):\n",
        "       db[i].append(float(row[i]))\n",
        "     db[4].append(row[4])\n",
        "\n",
        "#ora ho 5 liste salvate in db ognuna contiene tutte le caratteristiche dei fiori\n",
        "\n",
        "meanSL = (sum(db[0]))/(len(db[0]))\n",
        "meanSW = (sum(db[1]))/(len(db[1]))\n",
        "meanPL = (sum(db[2]))/(len(db[2]))\n",
        "meanPW = (sum(db[3]))/(len(db[3]))\n",
        "\n",
        "print(f\"valore medio SL : {meanSL}\")\n",
        "print(f\"valore medio SW : {meanSW}\")\n",
        "print(f\"valore medio PL : {meanPL}\")\n",
        "print(f\"valore medio PW : {meanPW}\")\n",
        "\n",
        "def deviazione (x,y):\n",
        "  d=0\n",
        "  for xi in x:\n",
        "     d += (xi-y)**2\n",
        "  return (d/len(x))**0.5\n",
        "\n",
        "devSL= deviazione(db[0], meanSL)\n",
        "devSW= deviazione(db[1], meanSW)\n",
        "devPL= deviazione(db[1], meanPL)\n",
        "devPW= deviazione(db[3], meanPW)\n",
        "\n",
        "print(f\"deviazione standard SL : {devSL}\")\n",
        "print(f\"deviazione standard SW : {devSW}\")\n",
        "print(f\"deviazione standard PL : {devPL}\")\n",
        "print(f\"deviazione standard PW : {devPW}\")\n",
        "\n",
        "Setosa = [ [], [], [], [] ] #lista di 4 colonne \n",
        "Versicolor = [ [], [], [], [] ]\n",
        "Virginica = [ [], [], [], [] ]\n",
        "with open(\"iris.csv\") as f:\n",
        " for row in csv.reader(f): #per ogni riga mi salvo il valore nella colonna corrispondente così avrò una lista con tutte leunghezze dei peatali ecc..\n",
        "   if len(row)==5:\n",
        "      for i in range(4):\n",
        "        if row[4] == \"Iris-virginica\":\n",
        "         Virginica[i].append(float(row[i]))\n",
        "        elif row[4] == 'Iris-versicolor':\n",
        "         Versicolor[i].append(float(row[i]))\n",
        "        else:\n",
        "         Setosa[i].append(float(row[i]))  \n",
        "\n",
        "print(f\"\\n valore medio SL \\n Virginica: {sum(Virginica[0])/len(Virginica[0])} \\n Versicolor: {sum(Versicolor[0])/len(Versicolor[0])} \\n Setosa: {sum(Setosa[0])/len(Setosa[0])}\")\n",
        "print(f\"\\n valore medio SW \\n Virginica: {sum(Virginica[1])/len(Virginica[1])} \\n Versicolor: {sum(Versicolor[1])/len(Versicolor[1])} \\n Setosa: {sum(Setosa[1])/len(Setosa[1])}\")\n",
        "print(f\"\\n valore medio PL \\n Virginica: {sum(Virginica[2])/len(Virginica[2])} \\n Versicolor: {sum(Versicolor[2])/len(Versicolor[2])} \\n Setosa: {sum(Setosa[2])/len(Setosa[2])}\")\n",
        "print(f\"\\n valore medio PW \\n Virginica: {sum(Virginica[3])/len(Virginica[3])} \\n Versicolor: {sum(Versicolor[3])/len(Versicolor[3])} \\n Setosa: {sum(Setosa[3])/len(Setosa[3])}\")\n",
        "\n",
        "print(f\"\\n devizione standard SL \\n Virginica: {deviazione( Virginica[0], (sum(Virginica[0])/len(Virginica[0])))} \\n Versicolor: {deviazione(Versicolor[0] , (sum(Versicolor[0])/len(Versicolor[0])))} \\n Setosa: {deviazione(Setosa[0] , (sum(Setosa[0])/len(Setosa[0])))}\")\n",
        "print(f\"\\n devizione standard SW \\n Virginica: {deviazione( Virginica[1], (sum(Virginica[1])/len(Virginica[1])))} \\n Versicolor: {deviazione(Versicolor[1] , (sum(Versicolor[1])/len(Versicolor[1])))} \\n Setosa: {deviazione(Setosa[1] , (sum(Setosa[1])/len(Setosa[1])))}\")\n",
        "print(f\"\\n devizione standard PL \\n Virginica: {deviazione( Virginica[2], (sum(Virginica[2])/len(Virginica[2])))} \\n Versicolor: {deviazione(Versicolor[2] , (sum(Versicolor[2])/len(Versicolor[2])))} \\n Setosa: {deviazione(Setosa[2] , (sum(Setosa[2])/len(Setosa[2])))}\")\n",
        "print(f\"\\n devizione standard PW \\n Virginica: {deviazione( Virginica[3], (sum(Virginica[3])/len(Virginica[3])))} \\n Versicolor: {deviazione(Versicolor[3] , (sum(Versicolor[3])/len(Versicolor[3])))} \\n Setosa: {deviazione(Setosa[3] , (sum(Setosa[3])/len(Setosa[3])))}\")\n",
        "\n",
        " "
      ],
      "execution_count": null,
      "outputs": []
    },
    {
      "cell_type": "markdown",
      "metadata": {
        "id": "Xh-XxEGOcqhb"
      },
      "source": [
        "# 2.2"
      ]
    },
    {
      "cell_type": "code",
      "metadata": {
        "id": "mMwBmc90cu9y"
      },
      "source": [
        "! wget \"http://api.citybik.es/v2/networks/to-bike\" -O citybik.json\n",
        "import json\n",
        "with open(\"citybik.json\") as f:\n",
        " dataset = json.load(f)\n",
        "\n",
        "dataset.keys()\n",
        "type(dataset['network']) #dizionario\n",
        "dataset['network'].keys() #dict_keys(['company', 'href', 'id', 'location', 'name', 'source', 'stations'])\n",
        "type(['company']) #lista come anche href, id...\n",
        "type(['number']) #lista come online, score...\n",
        "# tra tutte le chiavi di networks quella che ci interessa di più è stations perchè contiene al suo interno delle liste\n",
        "type(dataset['network']['stations'][0]) #dizionario\n",
        "\n",
        "len(dataset['network']['stations']) #numero di stazioni\n",
        " \n",
        "dataset['network']['stations'][0].keys() #dict_keys(['empty_slots', 'extra', 'free_bikes', 'id', 'latitude', 'longitude', 'name', 'timestamp'])\n",
        "dataset['network']['stations'][0]['extra'].keys() #dict_keys(['number', 'reviews', 'score', 'status', 'uid'])\n",
        "dataset['network']['stations'][0]['extra']['status'] #online\n",
        "\n",
        "stazioni_attive=0\n",
        "type(dataset['network']['stations'][0]['extra']['status'])\n",
        "type(len(dataset['network']['stations'])) #int\n",
        "\n",
        "for i in range(len(dataset['network']['stations'])):\n",
        " if (dataset['network']['stations'][i]['extra']['status']) == 'online':\n",
        "   stazioni_attive +=1\n",
        "\n",
        "print('Numero di stazioni attive ',stazioni_attive) \n",
        "\n",
        "free_b=0\n",
        "\n",
        "for i in range(len(dataset['network']['stations'])):\n",
        "   free_b += dataset['network']['stations'][i]['free_bikes']\n",
        "\n",
        "print('Numero bici libere ' ,free_b)\n",
        "\n",
        "empty_s=0\n",
        " \n",
        "for i in range(len(dataset['network']['stations'])):\n",
        "   empty_s += dataset['network']['stations'][i]['empty_slots']\n",
        "\n",
        "print('Numero slot vuoti ' ,empty_s)   \n",
        "\n",
        "  "
      ],
      "execution_count": null,
      "outputs": []
    },
    {
      "cell_type": "markdown",
      "metadata": {
        "id": "ZPuBotAR-Qst"
      },
      "source": [
        "# 2.3"
      ]
    },
    {
      "cell_type": "code",
      "metadata": {
        "id": "3tNa8iyY-U6_",
        "colab": {
          "base_uri": "https://localhost:8080/"
        },
        "outputId": "21434387-618e-4c02-b7b9-e16e2f27402a"
      },
      "source": [
        "! wget \"https://raw.githubusercontent.com/dbdmg/data-science-lab/master/datasets/mnist_test.csv\" -O mnist.csv\n",
        "\n",
        "import csv\n",
        "\n",
        "ds = []\n",
        "labels = []\n",
        "with open(\"mnist.csv\") as f:\n",
        "    for cols in csv.reader(f):\n",
        "        labels.append(int(cols.pop(0))) #contiene tutti i primi numeri delle colonne cioè i numeri da rappresentare\n",
        "        ds.append(list(map(int, cols))) #contiene 10000 lista con le varie grdazioni\n",
        "\n",
        "def funz(x):  #funzione che mi restituisce il carattere in base al range in cui si trova il numero x\n",
        "  range= {(0,64):\" \", (64,128):\".\", (128,192):\"*\", (192,256):\"#\"}\n",
        "  for (a,b), ch  in range.items():\n",
        "    if a<= x < b:\n",
        "      return ch\n",
        "\n",
        "def stampa(ds, posizione): #devo avere l'intero db e la posizione cioè la n-esima riga che voglio rappresentare\n",
        " riga_rapp = list(map(funz, ds[posizione])) #applichiamo la funzione su tutti i numeri della riga selezionata\n",
        " for i in range(28):\n",
        "   for j in range(28):\n",
        "     print(riga_rapp[i*28+j], end=\" \")\n",
        "   print() #per andare a capo dopo ogni riga composta da 28 segni\n",
        "\n",
        "\n",
        "stampa(ds, 129) \n",
        "\n",
        "def Euclidean(num1 , num2):\n",
        "   return sum([ (n1 - n2) ** 2 for n1, n2 in zip(num1, num2) ]) ** 0.5\n",
        "\n",
        "campione = [25, 29, 31, 35]\n",
        "for i in range(len(campione)):\n",
        "  for j in range(i+1, len(campione)): #i+1 se no ripeto alcune coppie e anche le coppie come 25 25\n",
        "    a = campione[i]\n",
        "    b = campione[j]\n",
        "    print(a, b, Euclidean(ds[a],ds[b]))\n",
        "\n"
      ],
      "execution_count": 7,
      "outputs": [
        {
          "output_type": "stream",
          "name": "stdout",
          "text": [
            "--2021-11-01 12:18:20--  https://raw.githubusercontent.com/dbdmg/data-science-lab/master/datasets/mnist_test.csv\n",
            "Resolving raw.githubusercontent.com (raw.githubusercontent.com)... 185.199.111.133, 185.199.110.133, 185.199.108.133, ...\n",
            "Connecting to raw.githubusercontent.com (raw.githubusercontent.com)|185.199.111.133|:443... connected.\n",
            "HTTP request sent, awaiting response... 200 OK\n",
            "Length: 18289443 (17M) [text/plain]\n",
            "Saving to: ‘mnist.csv’\n",
            "\n",
            "\rmnist.csv             0%[                    ]       0  --.-KB/s               \rmnist.csv           100%[===================>]  17.44M   113MB/s    in 0.2s    \n",
            "\n",
            "2021-11-01 12:18:21 (113 MB/s) - ‘mnist.csv’ saved [18289443/18289443]\n",
            "\n",
            "                                                        \n",
            "                                                        \n",
            "                                                        \n",
            "                                                        \n",
            "                                                        \n",
            "                            . #             * *         \n",
            "                          . # # . . * # # # # #         \n",
            "                        # # # # # # # # # * .           \n",
            "                      # # # # # * * * .                 \n",
            "                    # # *                               \n",
            "                  * # #                                 \n",
            "                  # #                                   \n",
            "                . # #                                   \n",
            "                  # # # *                               \n",
            "                  . # # # # # .                         \n",
            "                        * # # # *                       \n",
            "                            * # # # *                   \n",
            "                                # # #                   \n",
            "                                . # #                   \n",
            "                                # # #                   \n",
            "                            . # # #                     \n",
            "                .         * # # # .                     \n",
            "              . #   . * # # # *                         \n",
            "              . # # # # # # .                           \n",
            "                * # # * .                               \n",
            "                                                        \n",
            "                                                        \n",
            "                                                        \n",
            "25 29 3539.223219860539\n",
            "25 31 3556.4199695761467\n",
            "25 35 3028.5034257864063\n",
            "29 31 1171.8293391104355\n",
            "29 35 2632.5162867492386\n",
            "31 35 2583.6768373773066\n"
          ]
        }
      ]
    }
  ]
}