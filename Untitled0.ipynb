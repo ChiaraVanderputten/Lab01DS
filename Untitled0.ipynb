{
  "nbformat": 4,
  "nbformat_minor": 0,
  "metadata": {
    "colab": {
      "name": "Untitled0.ipynb",
      "provenance": [],
      "toc_visible": true,
      "authorship_tag": "ABX9TyOHCBCSc5fawndUOq4fRq43",
      "include_colab_link": true
    },
    "kernelspec": {
      "name": "python3",
      "display_name": "Python 3"
    },
    "language_info": {
      "name": "python"
    }
  },
  "cells": [
    {
      "cell_type": "markdown",
      "metadata": {
        "id": "view-in-github",
        "colab_type": "text"
      },
      "source": [
        "<a href=\"https://colab.research.google.com/github/ChiaraVanderputten/Lab01DS/blob/main/Untitled0.ipynb\" target=\"_parent\"><img src=\"https://colab.research.google.com/assets/colab-badge.svg\" alt=\"Open In Colab\"/></a>"
      ]
    },
    {
      "cell_type": "markdown",
      "metadata": {
        "id": "ynYsQfeYnoS7"
      },
      "source": [
        "# 2.1"
      ]
    },
    {
      "cell_type": "code",
      "metadata": {
        "colab": {
          "base_uri": "https://localhost:8080/"
        },
        "id": "9nU6JTjgnyEh",
        "outputId": "a1d68798-19f0-4da3-b1b7-7d27a4efb8ae"
      },
      "source": [
        "! wget \"https://archive.ics.uci.edu/ml/machine-learning-databases/iris/iris.data\" -O iris.csv\n",
        "import csv\n",
        "\n",
        "db = [ [], [], [], [], [] ] #lista di 5 colonne\n",
        "with open(\"iris.csv\") as f:\n",
        " for row in csv.reader(f): #per ogni riga mi salvo il valore nella colonna corrispondente così avrò una lista con tutte leunghezze dei peatali ecc..\n",
        "   if len(row)==5:\n",
        "     for i in range(4):\n",
        "       db[i].append(float(row[i]))\n",
        "     db[4].append(row[4])\n",
        "\n",
        "#ora ho 5 liste salvate in db ognuna contiene tutte le caratteristiche dei fiori\n",
        "\n",
        "meanSL = (sum(db[0]))/(len(db[0]))\n",
        "meanSW = (sum(db[1]))/(len(db[1]))\n",
        "meanPL = (sum(db[2]))/(len(db[2]))\n",
        "meanPW = (sum(db[3]))/(len(db[3]))\n",
        "\n",
        "print(f\"valore medio SL : {meanSL}\")\n",
        "print(f\"valore medio SW : {meanSW}\")\n",
        "print(f\"valore medio PL : {meanPL}\")\n",
        "print(f\"valore medio PW : {meanPW}\")\n",
        "\n",
        "def deviazione (x,y):\n",
        "  d=0\n",
        "  for xi in x:\n",
        "     d += (xi-y)**2\n",
        "  return (d/len(x))**0.5\n",
        "\n",
        "devSL= deviazione(db[0], meanSL)\n",
        "devSW= deviazione(db[1], meanSW)\n",
        "devPL= deviazione(db[1], meanPL)\n",
        "devPW= deviazione(db[3], meanPW)\n",
        "\n",
        "print(f\"deviazione standard SL : {devSL}\")\n",
        "print(f\"deviazione standard SW : {devSW}\")\n",
        "print(f\"deviazione standard PL : {devPL}\")\n",
        "print(f\"deviazione standard PW : {devPW}\")\n",
        "\n",
        "Setosa = [ [], [], [], [] ] #lista di 4 colonne \n",
        "Versicolor = [ [], [], [], [] ]\n",
        "Virginica = [ [], [], [], [] ]\n",
        "with open(\"iris.csv\") as f:\n",
        " for row in csv.reader(f): #per ogni riga mi salvo il valore nella colonna corrispondente così avrò una lista con tutte leunghezze dei peatali ecc..\n",
        "   if len(row)==5:\n",
        "      for i in range(4):\n",
        "        if row[4] == \"Iris-virginica\":\n",
        "         Virginica[i].append(float(row[i]))\n",
        "        elif row[4] == 'Iris-versicolor':\n",
        "         Versicolor[i].append(float(row[i]))\n",
        "        else:\n",
        "         Setosa[i].append(float(row[i]))  \n",
        "\n",
        "print(f\"\\n valore medio SL \\n Virginica: {sum(Virginica[0])/len(Virginica[0])} \\n Versicolor: {sum(Versicolor[0])/len(Versicolor[0])} \\n Setosa: {sum(Setosa[0])/len(Setosa[0])}\")\n",
        "print(f\"\\n valore medio SW \\n Virginica: {sum(Virginica[1])/len(Virginica[1])} \\n Versicolor: {sum(Versicolor[1])/len(Versicolor[1])} \\n Setosa: {sum(Setosa[1])/len(Setosa[1])}\")\n",
        "print(f\"\\n valore medio PL \\n Virginica: {sum(Virginica[2])/len(Virginica[2])} \\n Versicolor: {sum(Versicolor[2])/len(Versicolor[2])} \\n Setosa: {sum(Setosa[2])/len(Setosa[2])}\")\n",
        "print(f\"\\n valore medio PW \\n Virginica: {sum(Virginica[3])/len(Virginica[3])} \\n Versicolor: {sum(Versicolor[3])/len(Versicolor[3])} \\n Setosa: {sum(Setosa[3])/len(Setosa[3])}\")\n",
        "\n",
        "print(f\"\\n devizione standard SL \\n Virginica: {deviazione( Virginica[0], (sum(Virginica[0])/len(Virginica[0])))} \\n Versicolor: {deviazione(Versicolor[0] , (sum(Versicolor[0])/len(Versicolor[0])))} \\n Setosa: {deviazione(Setosa[0] , (sum(Setosa[0])/len(Setosa[0])))}\")\n",
        "print(f\"\\n devizione standard SW \\n Virginica: {deviazione( Virginica[1], (sum(Virginica[1])/len(Virginica[1])))} \\n Versicolor: {deviazione(Versicolor[1] , (sum(Versicolor[1])/len(Versicolor[1])))} \\n Setosa: {deviazione(Setosa[1] , (sum(Setosa[1])/len(Setosa[1])))}\")\n",
        "print(f\"\\n devizione standard PL \\n Virginica: {deviazione( Virginica[2], (sum(Virginica[2])/len(Virginica[2])))} \\n Versicolor: {deviazione(Versicolor[2] , (sum(Versicolor[2])/len(Versicolor[2])))} \\n Setosa: {deviazione(Setosa[2] , (sum(Setosa[2])/len(Setosa[2])))}\")\n",
        "print(f\"\\n devizione standard PW \\n Virginica: {deviazione( Virginica[3], (sum(Virginica[3])/len(Virginica[3])))} \\n Versicolor: {deviazione(Versicolor[3] , (sum(Versicolor[3])/len(Versicolor[3])))} \\n Setosa: {deviazione(Setosa[3] , (sum(Setosa[3])/len(Setosa[3])))}\")\n",
        "\n",
        " "
      ],
      "execution_count": 25,
      "outputs": [
        {
          "output_type": "stream",
          "name": "stdout",
          "text": [
            "--2021-10-30 13:34:10--  https://archive.ics.uci.edu/ml/machine-learning-databases/iris/iris.data\n",
            "Resolving archive.ics.uci.edu (archive.ics.uci.edu)... 128.195.10.252\n",
            "Connecting to archive.ics.uci.edu (archive.ics.uci.edu)|128.195.10.252|:443... connected.\n",
            "HTTP request sent, awaiting response... 200 OK\n",
            "Length: 4551 (4.4K) [application/x-httpd-php]\n",
            "Saving to: ‘iris.csv’\n",
            "\n",
            "\riris.csv              0%[                    ]       0  --.-KB/s               \riris.csv            100%[===================>]   4.44K  --.-KB/s    in 0s      \n",
            "\n",
            "2021-10-30 13:34:10 (105 MB/s) - ‘iris.csv’ saved [4551/4551]\n",
            "\n",
            "valore medio SL : 5.843333333333335\n",
            "valore medio SW : 3.0540000000000007\n",
            "valore medio PL : 3.7586666666666693\n",
            "valore medio PW : 1.1986666666666672\n",
            "deviazione standard SL : 0.8253012917851409\n",
            "deviazione standard SW : 0.4321465800705435\n",
            "deviazione standard PL : 0.8266231171324583\n",
            "deviazione standard PW : 0.760612618588172\n",
            "\n",
            " valore medio SL \n",
            " Virginica: 6.587999999999998 \n",
            " Versicolor: 5.936 \n",
            " Setosa: 5.005999999999999\n",
            "\n",
            " valore medio SW \n",
            " Virginica: 2.9739999999999998 \n",
            " Versicolor: 2.7700000000000005 \n",
            " Setosa: 3.4180000000000006\n",
            "\n",
            " valore medio PL \n",
            " Virginica: 5.552 \n",
            " Versicolor: 4.26 \n",
            " Setosa: 1.464\n",
            "\n",
            " valore medio PW \n",
            " Virginica: 2.026 \n",
            " Versicolor: 1.3259999999999998 \n",
            " Setosa: 0.2439999999999999\n",
            "\n",
            " devizione standard SL \n",
            " Virginica: 0.6294886813914925 \n",
            " Versicolor: 0.5109833656783752 \n",
            " Setosa: 0.348946987377739\n",
            "\n",
            " devizione standard SW \n",
            " Virginica: 0.319255383666431 \n",
            " Versicolor: 0.31064449134018135 \n",
            " Setosa: 0.37719490982779713\n",
            "\n",
            " devizione standard PL \n",
            " Virginica: 0.5463478745268441 \n",
            " Versicolor: 0.4651881339845204 \n",
            " Setosa: 0.17176728442867115\n",
            "\n",
            " devizione standard PW \n",
            " Virginica: 0.2718896835115301 \n",
            " Versicolor: 0.19576516544063702 \n",
            " Setosa: 0.10613199329137278\n"
          ]
        }
      ]
    }
  ]
}